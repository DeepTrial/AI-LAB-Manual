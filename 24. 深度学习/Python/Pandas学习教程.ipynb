{
 "cells": [
  {
   "cell_type": "markdown",
   "metadata": {},
   "source": [
    "# Pandas学习教程\n",
    "\n",
    "**Author Github: @deeptrial**\n",
    "\n",
    "2021-04-01\n",
    "\n",
    "East China Normal University"
   ]
  },
  {
   "cell_type": "code",
   "execution_count": 1,
   "metadata": {},
   "outputs": [
    {
     "name": "stderr",
     "output_type": "stream",
     "text": [
      "/Users/resnick/.pyenv/versions/3.7.2/lib/python3.7/site-packages/pandas/compat/__init__.py:97: UserWarning: Could not import the lzma module. Your installed Python is incomplete. Attempting to use lzma compression will result in a RuntimeError.\n",
      "  warnings.warn(msg)\n"
     ]
    }
   ],
   "source": [
    "import pandas as pd\n",
    "import numpy as np\n",
    "import math\n",
    "\n",
    "def separate():\n",
    "    print(\"--------------------------------\")"
   ]
  },
  {
   "cell_type": "markdown",
   "metadata": {
    "tags": []
   },
   "source": [
    "## Pandas的数据结构\n",
    "\n",
    "Pandas具有~~3~~ 2种数据结构，分别是Series（系列），DataFrame（数据帧），~~Panel（面板）~~。三种数据结构均建立在numpy基础上，因此具有较好的执行效率。这些数据结构的特点如下:\n",
    "\n",
    "- Series表示1维均匀数组，数组尺寸**不可变**，数据值可变\n",
    "- DataFrame表示2维异构数组，数组尺寸可变，数据值可变\n",
    "- ~~Panel表示表示3维异构数组，数组尺寸可变，数据值可变~~ 新版本已使用MultiIndex代替Panel\n",
    "\n",
    "因此三种数据结构间的关系是：Series可组成DataFrame，~~DataFrame可组成Panel~~"
   ]
  },
  {
   "cell_type": "markdown",
   "metadata": {
    "tags": []
   },
   "source": [
    "## 1 Series\n",
    "\n",
    "Series是Pandas的主要数据结构之一，是带标签的一维数组。理论上数组内的值的类型必须是统一的，但由于不同类型的数据在python中都可作为object，所以这一问题常被忽视。\n",
    "\n",
    "Series结构在存储时分为两个部分（如图所示）：\n",
    "- values：一维数组数据\n",
    "- index：数据索引标签\n",
    "\n",
    "特点：**数据对齐是内在的**，标签与数据默认对齐，除非特殊情况，一般不会断开连接，因此通过索引取值非常方便，不需要循环，可以直接通过字典方式，key 获取value\n",
    "\n",
    "<img src=\"https://pic1.zhimg.com/v2-3c3e48377d299270579be01f6d9fb79c_b.jpg\" width = \"150\" height = \"100\" alt=\"Series结构\" align=center />"
   ]
  },
  {
   "cell_type": "markdown",
   "metadata": {
    "tags": []
   },
   "source": [
    "### 创建Series\n",
    "\n",
    "Pandas系列可以使用以下构造函数创建：\n",
    "\n",
    "```python\n",
    "pandas.Series( data, index, dtype, copy)\n",
    "```\n",
    "- data: 数据形式，可以是numpy array，list, dictionary， constant\n",
    "- index：索引值，默认的隐式数字索引：np.arange(n)，下标从0开始\n",
    "- dtype: 数据类型，默认将自动推断\n",
    "- copy：表示是否复制数据，默认False"
   ]
  },
  {
   "cell_type": "code",
   "execution_count": 25,
   "metadata": {
    "tags": []
   },
   "outputs": [
    {
     "name": "stdout",
     "output_type": "stream",
     "text": [
      "from list:\n",
      " 0    11.0\n",
      "1     3.5\n",
      "2     2.0\n",
      "3     5.0\n",
      "4    12.0\n",
      "dtype: float64\n",
      "--------------------------------\n",
      "from constant:\n",
      " a    \n",
      "b    \n",
      "c    \n",
      "d    \n",
      "4    \n",
      "dtype: object\n",
      "--------------------------------\n",
      "from dict:\n",
      " a    1\n",
      "b    2\n",
      "c    3\n",
      "d    4\n",
      "e    4\n",
      "dtype: int64\n",
      "--------------------------------\n",
      "from array:\n",
      " a    8\n",
      "b    1\n",
      "c    6\n",
      "d    3\n",
      "dtype: int64\n",
      "--------------------------------\n"
     ]
    }
   ],
   "source": [
    "# 创建Series\n",
    "s1=pd.Series([11,3.5,2,5,12])  #从list创建,这里没有给出index，因此使用隐式索引\n",
    "print(\"from list:\\n\",s1)\n",
    "separate()\n",
    "\n",
    "s2=pd.Series('',index=['a','b','c','d',4])   #从constant创建，依据index长度创建值相同的数组\n",
    "print(\"from constant:\\n\",s2)\n",
    "separate()\n",
    "\n",
    "s3=pd.Series({'a':1,'b':2,'c':3,'d':4,'e':4})   #从dict创建 key变为index，value是数组数据\n",
    "print(\"from dict:\\n\",s3)\n",
    "separate()\n",
    "\n",
    "s4 = pd.Series(np.random.randint(1,10,size=(4,)),index=['a','b','c','d'])\n",
    "print(\"from array:\\n\",s4)\n",
    "separate()"
   ]
  },
  {
   "cell_type": "markdown",
   "metadata": {
    "tags": [],
    "toc-hr-collapsed": true
   },
   "source": [
    "### Series切片和索引\n",
    "\n",
    "Series的索引和切片提供了访问、修改Series部分数据的功能。\n",
    "- ##### **iloc** vs **loc**\n",
    " - iloc是通过隐式索引访问数据的操作，内部只能填写数字下标\n",
    " - loc是通过显式索引访问数据的操作，内部填写自定义的标签，可以是数字或字符串等"
   ]
  },
  {
   "cell_type": "code",
   "execution_count": 26,
   "metadata": {
    "tags": []
   },
   "outputs": [
    {
     "name": "stdout",
     "output_type": "stream",
     "text": [
      "分别访问s1的第1行、第2行： 3.5 2.0\n",
      "同时访问s1的第1行、第2行： 1    3.5\n",
      "2    2.0\n",
      "dtype: float64\n",
      "--------------------------------\n",
      "分别访问s3的第1行、第2行： 2 3\n",
      "同时访问s3的第1行、第2行： b    2\n",
      "c    3\n",
      "dtype: int64\n",
      "--------------------------------\n",
      "分别访问s1的第1行、第2行： 3.5 2.0\n",
      "同时访问s1的第1行、第2行： 1    3.5\n",
      "2    2.0\n",
      "dtype: float64\n",
      "--------------------------------\n",
      "分别访问s3的第1行、第2行： 2 3\n",
      "同时访问s3的第1行、第2行： b    2\n",
      "c    3\n",
      "dtype: int64\n",
      "--------------------------------\n"
     ]
    }
   ],
   "source": [
    "# 通过隐式索引访问数据\n",
    "# 任何Series都可通过隐式索引访问数据\n",
    "print(\"分别访问s1的第1行、第2行：\",s1.iloc[1],s1.iloc[2])  #返回具体数值\n",
    "print(\"同时访问s1的第1行、第2行：\",s1.iloc[[1,2]])    # 返回Series切片\n",
    "separate()\n",
    "\n",
    "print(\"分别访问s3的第1行、第2行：\",s3.iloc[1],s3.iloc[2])  #返回具体数值\n",
    "print(\"同时访问s3的第1行、第2行：\",s3.iloc[[1,2]])    # 返回Series切片\n",
    "separate()\n",
    "\n",
    "\n",
    "# 通过显式索引访问数据\n",
    "# 对于自定义index的Series，可以直接通过指定index访问数据\n",
    "# 对于没有自定义index的Series，可以直接指定index行号访问数据\n",
    "print(\"分别访问s1的第1行、第2行：\",s1[1],s1[2])  #返回具体数值\n",
    "print(\"同时访问s1的第1行、第2行：\",s1.loc[[1,2]])    # 返回Series切片\n",
    "separate()\n",
    "\n",
    "print(\"分别访问s3的第1行、第2行：\",s3['b'],s3['c'])  #返回具体数值\n",
    "print(\"同时访问s3的第1行、第2行：\",s3.loc[['b','c']])    # 返回Series切片\n",
    "separate()"
   ]
  },
  {
   "cell_type": "markdown",
   "metadata": {
    "tags": [],
    "toc-hr-collapsed": true
   },
   "source": [
    "### Series基本操作\n",
    "\n",
    "Series的基本操作包括：\n",
    "- #### 显式数据的头和尾"
   ]
  },
  {
   "cell_type": "code",
   "execution_count": 27,
   "metadata": {},
   "outputs": [
    {
     "data": {
      "text/plain": [
       "0    11.0\n",
       "1     3.5\n",
       "dtype: float64"
      ]
     },
     "execution_count": 27,
     "metadata": {},
     "output_type": "execute_result"
    }
   ],
   "source": [
    "# 显式前n行\n",
    "s1.head(2)\n",
    "\n",
    "#显式末尾n行\n",
    "#s1.tail(2)"
   ]
  },
  {
   "cell_type": "markdown",
   "metadata": {},
   "source": [
    "- #### 获取、修改index\n",
    "\n",
    "Series数据结构在定义后无法改变数组的长度，但是可以修改index"
   ]
  },
  {
   "cell_type": "code",
   "execution_count": 19,
   "metadata": {},
   "outputs": [
    {
     "name": "stdout",
     "output_type": "stream",
     "text": [
      "[7 8 2 9] Index(['a', 'c', 'b', 'd'], dtype='object')\n",
      "a    7\n",
      "c    8\n",
      "b    2\n",
      "d    9\n",
      "dtype: int64\n"
     ]
    }
   ],
   "source": [
    "#获取values，index\n",
    "print(s4.values,s4.index)\n",
    "\n",
    "#修改index\n",
    "s4.index=['a','c','b','d']\n",
    "print(s4)"
   ]
  },
  {
   "cell_type": "markdown",
   "metadata": {},
   "source": [
    "- #### 显式统计信息"
   ]
  },
  {
   "cell_type": "code",
   "execution_count": 30,
   "metadata": {
    "tags": []
   },
   "outputs": [
    {
     "name": "stdout",
     "output_type": "stream",
     "text": [
      "count     5.000000\n",
      "mean      6.700000\n",
      "std       4.522168\n",
      "min       2.000000\n",
      "25%       3.500000\n",
      "50%       5.000000\n",
      "75%      11.000000\n",
      "max      12.000000\n",
      "dtype: float64\n",
      "--------------------------------\n",
      "data type: float64\n",
      "std: 4.522167621838006\n"
     ]
    }
   ],
   "source": [
    "# 完整的统计信息\n",
    "print(s1.describe())\n",
    "separate()\n",
    "\n",
    "# 显式指定信息\n",
    "print(\"data type:\",s1.dtype)\n",
    "print(\"std:\",s1.std())"
   ]
  },
  {
   "cell_type": "markdown",
   "metadata": {},
   "source": [
    "- #### 去重 unique"
   ]
  },
  {
   "cell_type": "code",
   "execution_count": 21,
   "metadata": {
    "tags": []
   },
   "outputs": [
    {
     "name": "stdout",
     "output_type": "stream",
     "text": [
      "[1 2 3 4]\n",
      "a    1\n",
      "b    2\n",
      "c    3\n",
      "d    4\n",
      "e    4\n",
      "dtype: int64\n"
     ]
    }
   ],
   "source": [
    "print(s3.unique()) \n",
    "print(s3)  #unique不会修改原始数据，且返回的是list结果"
   ]
  },
  {
   "cell_type": "markdown",
   "metadata": {},
   "source": [
    "- #### 判断缺失值\n",
    " - notnull()表示不为空返回True，为空返回False\n",
    " - isnull()表示不为空返回False，为空返回True"
   ]
  },
  {
   "cell_type": "code",
   "execution_count": 22,
   "metadata": {
    "collapsed": true,
    "jupyter": {
     "outputs_hidden": true
    },
    "tags": []
   },
   "outputs": [
    {
     "name": "stdout",
     "output_type": "stream",
     "text": [
      "a    1.0\n",
      "b    2.0\n",
      "c    3.0\n",
      "d    4.0\n",
      "f    NaN\n",
      "p    NaN\n",
      "dtype: float64\n",
      "--------------------------------\n",
      "isnull\n",
      ": a    False\n",
      "b    False\n",
      "c    False\n",
      "d    False\n",
      "f     True\n",
      "p     True\n",
      "dtype: bool\n",
      "--------------------------------\n",
      "notnull\n",
      ": a     True\n",
      "b     True\n",
      "c     True\n",
      "d     True\n",
      "f    False\n",
      "p    False\n",
      "dtype: bool\n",
      "--------------------------------\n",
      "a    1.0\n",
      "b    2.0\n",
      "c    3.0\n",
      "d    4.0\n",
      "dtype: float64\n"
     ]
    }
   ],
   "source": [
    "sp=pd.Series({'a':1,'b':2,'c':3,'d':4,'e':4},index=['a','b','c','d','f','p'])   #构造一个含有Nan的Series\n",
    "print(sp)\n",
    "separate()\n",
    "\n",
    "print(\"isnull\\n:\",sp.isnull())\n",
    "separate()\n",
    "\n",
    "print(\"notnull\\n:\",sp.notnull())\n",
    "separate()\n",
    "\n",
    "print(sp[sp.notnull()]) #根据bool类型的Series访问数据，可提取非空数据或空数据"
   ]
  },
  {
   "cell_type": "markdown",
   "metadata": {},
   "source": [
    "- #### 标量运算\n",
    "\n",
    "与标量的运算：\n",
    "\n",
    "Pandas支持直接对Series进行运算，包括四则运算、条件判断、numpy内的函数运算"
   ]
  },
  {
   "cell_type": "code",
   "execution_count": 23,
   "metadata": {
    "tags": []
   },
   "outputs": [
    {
     "name": "stdout",
     "output_type": "stream",
     "text": [
      "0    16.0\n",
      "1     8.5\n",
      "2     7.0\n",
      "3    10.0\n",
      "4    17.0\n",
      "dtype: float64\n",
      "0    22.0\n",
      "1     7.0\n",
      "2     4.0\n",
      "3    10.0\n",
      "4    24.0\n",
      "dtype: float64\n",
      "0    5.50\n",
      "1    1.75\n",
      "2    1.00\n",
      "3    2.50\n",
      "4    6.00\n",
      "dtype: float64\n",
      "0    6.0\n",
      "1   -1.5\n",
      "2   -3.0\n",
      "3    0.0\n",
      "4    7.0\n",
      "dtype: float64\n",
      "--------------------------------\n",
      "False\n",
      "0     True\n",
      "1    False\n",
      "2    False\n",
      "3    False\n",
      "4     True\n",
      "dtype: bool\n",
      "--------------------------------\n",
      "0     59874.141715\n",
      "1        33.115452\n",
      "2         7.389056\n",
      "3       148.413159\n",
      "4    162754.791419\n",
      "dtype: float64\n",
      "0    3.316625\n",
      "1    1.870829\n",
      "2    1.414214\n",
      "3    2.236068\n",
      "4    3.464102\n",
      "dtype: float64\n"
     ]
    }
   ],
   "source": [
    "# 四则运算\n",
    "print(s1+5)\n",
    "print(s1*2)\n",
    "print(s1/2)\n",
    "print(s1-5)\n",
    "separate()\n",
    "\n",
    "# 条件判断\n",
    "print(7 in s1)\n",
    "print(s1>5)\n",
    "separate()\n",
    "\n",
    "# 函数运算\n",
    "print(np.exp(s1)) #无法使用math计算 print(math.exp(s))\n",
    "print(np.sqrt(s1))"
   ]
  },
  {
   "cell_type": "markdown",
   "metadata": {},
   "source": [
    "- #### Series的运算\n",
    "\n",
    "Series与Series的运算包括四则运算、拼接\n",
    "\n",
    "Series自生的运算包括删除、排序"
   ]
  },
  {
   "cell_type": "code",
   "execution_count": 24,
   "metadata": {
    "tags": []
   },
   "outputs": [
    {
     "name": "stdout",
     "output_type": "stream",
     "text": [
      "s3:\n",
      " a    1\n",
      "b    2\n",
      "c    3\n",
      "d    4\n",
      "e    4\n",
      "dtype: int64\n",
      "--------------------------------\n",
      "s4:\n",
      " a    7\n",
      "c    8\n",
      "b    2\n",
      "d    9\n",
      "dtype: int64\n",
      "--------------------------------\n",
      "s3+s4:\n",
      " a     8.0\n",
      "b     4.0\n",
      "c    11.0\n",
      "d    13.0\n",
      "e     NaN\n",
      "dtype: float64\n",
      "--------------------------------\n",
      "append:\n",
      " a    1\n",
      "b    2\n",
      "c    3\n",
      "d    4\n",
      "e    4\n",
      "0    8\n",
      "dtype: int64\n",
      "--------------------------------\n",
      "del index 0:\n",
      " a    1\n",
      "b    2\n",
      "c    3\n",
      "d    4\n",
      "e    4\n",
      "dtype: int64\n",
      "--------------------------------\n",
      "d    9\n",
      "c    8\n",
      "b    2\n",
      "a    7\n",
      "dtype: int64\n",
      "d    9\n",
      "c    8\n",
      "a    7\n",
      "b    2\n",
      "dtype: int64\n"
     ]
    }
   ],
   "source": [
    "#Series与Series运算\n",
    "print(\"s3:\\n\",s3) \n",
    "separate()\n",
    "print(\"s4:\\n\",s4)\n",
    "separate()\n",
    "print(\"s3+s4:\\n\",s3+s4) #支持四则运算，index相同的直接计算，无法匹配的保留并置为Nan\n",
    "separate()\n",
    "\n",
    "\n",
    "#Series与Series的拼接\n",
    "s3=s3.append(pd.Series([8])) #添加的Series在没有指定index时，采用隐式index（0，1，2，...）\n",
    "print(\"append:\\n\",s3)\n",
    "separate()\n",
    "\n",
    "#Series删除元素\n",
    "#s3=s3.drop(0)          #drop中填写index，可以是隐式index，也可以是自定义的index\n",
    "s3.drop(0,inplace=True) #inplace原地修改\n",
    "print(\"del index 0:\\n\",s3)\n",
    "separate()\n",
    "\n",
    "#按照index大小排序\n",
    "print(s4.sort_index(ascending = False))  #按照索引大小排序  不改变原始Series\n",
    "print(s4.sort_values(ascending = False))  #按照值大小排序 "
   ]
  },
  {
   "cell_type": "markdown",
   "metadata": {
    "tags": []
   },
   "source": [
    "## 2 DataFrame\n",
    "\n",
    "<img src=\"https://pic1.zhimg.com/v2-b03baaccf0ca7ec26c97a979fc6540f0_b.jpg\" width = \"300\" height = \"250\" alt=\"Series结构\" align=center />"
   ]
  },
  {
   "cell_type": "markdown",
   "metadata": {},
   "source": [
    "pandas中的DataFrame可以使用以下构造函数创建:\n",
    "```python\n",
    "pandas.DataFrame( data, index, columns, dtype, copy)\n",
    "```\n",
    "- data: 数据形式，可以是numpy array，list, map,dictionary， constant,dataframe\n",
    "- index：行标签，默认np.arange(n)\n",
    "- columns：列标签，默认np.arange(n)\n",
    "- dtype: 数据类型，默认将自动推断\n",
    "- copy：表示是否复制数据，默认False\n"
   ]
  },
  {
   "cell_type": "code",
   "execution_count": 130,
   "metadata": {
    "collapsed": true,
    "jupyter": {
     "outputs_hidden": true
    }
   },
   "outputs": [
    {
     "name": "stdout",
     "output_type": "stream",
     "text": [
      "   kk dd\n",
      "0   1  a\n",
      "1   2  b\n",
      "2   3  c\n",
      "3   4  d\n",
      "   one  two\n",
      "a  1.0    1\n",
      "b  2.0    2\n",
      "c  3.0    3\n",
      "d  NaN    4\n",
      "column select: a    1.0\n",
      "b    2.0\n",
      "c    3.0\n",
      "d    NaN\n",
      "Name: one, dtype: float64\n",
      "   one  two\n",
      "a  1.0    1\n",
      "b  2.0    2\n",
      "c  3.0    3\n",
      "d  NaN    4\n",
      "   one  two  three  four\n",
      "a  1.0    1      1  10.0\n",
      "b  2.0    2      2  20.0\n",
      "c  3.0    3      3  30.0\n",
      "d  NaN    4      4   NaN\n",
      "   one  two  three\n",
      "a  1.0    1      1\n",
      "b  2.0    2      2\n",
      "c  3.0    3      3\n",
      "d  NaN    4      4\n",
      "   two  three\n",
      "a    1      1\n",
      "b    2      2\n",
      "c    3      3\n",
      "d    4      4\n",
      "select row two      1\n",
      "three    1\n",
      "Name: a, dtype: int64    three  two\n",
      "a      1    1 <class 'pandas.core.series.Series'>\n",
      "select row-2 two      1\n",
      "three    1\n",
      "Name: a, dtype: int64 a    1\n",
      "b    2\n",
      "c    3\n",
      "d    4\n",
      "Name: two, dtype: int64 a    1\n",
      "c    3\n",
      "Name: two, dtype: int64 <class 'pandas.core.series.Series'>\n",
      "   two  three\n",
      "a    1      1\n",
      "b    2      2\n",
      "c    3      3\n",
      "   two  three\n",
      "a    1      1\n",
      "b    2      2\n",
      "c    3      3\n",
      "d    4      4\n",
      "e    5      5\n",
      "f    6      6\n",
      "   two  three\n",
      "b    2      2\n",
      "c    3      3\n",
      "d    4      4\n",
      "e    5      5\n",
      "f    6      6\n"
     ]
    }
   ],
   "source": [
    "# 创建DataFrame\n",
    "df=pd.DataFrame([[1,'a'],[2,'b'],[3,'c'],[4,'d']],columns=['kk','dd'])\n",
    "print(df)\n",
    "\n",
    "d = {'one' : pd.Series([1, 2, 3], index=['a', 'b', 'c']), 'two' : pd.Series([1, 2, 3, 4], index=['a', 'b', 'c', 'd'])}\n",
    "df = pd.DataFrame(d)\n",
    "print(df)\n",
    "\n",
    "#列选择\n",
    "print('column select:',df['one'])\n",
    "print(df[['one','two']])\n",
    "\n",
    "# 添加列\n",
    "df[\"three\"]=[1,2,3,4]\n",
    "df['four']=pd.Series([10,20,30],index=['a','b','c'])\n",
    "print(df)\n",
    "\n",
    "#列删除\n",
    "del df['four']\n",
    "print(df)\n",
    "\n",
    "df.pop('one')\n",
    "print(df)\n",
    "\n",
    "#行选择\n",
    "print('select row',df.loc['a'],df.loc[['a'],['three','two']],type(df.loc['a']))\n",
    "print('select row-2',df.iloc[0],df.iloc[:,0],df.iloc[[0,2],0],type(df.iloc[0]))\n",
    "print(df[0:3])\n",
    "\n",
    "#行添加\n",
    "addrow=pd.DataFrame([[5,5],[6,6]],columns=['two','three'],index=['e','f'])\n",
    "df=df.append(addrow) #注意需要赋值\n",
    "print(df)\n",
    "\n",
    "#行删除\n",
    "df=df.drop('a') #注意与pop的区别\n",
    "print(df)"
   ]
  },
  {
   "cell_type": "code",
   "execution_count": 131,
   "metadata": {
    "collapsed": true,
    "jupyter": {
     "outputs_hidden": true
    }
   },
   "outputs": [
    {
     "name": "stdout",
     "output_type": "stream",
     "text": [
      "two      5\n",
      "three    5\n",
      "dtype: int64 two      int64\n",
      "three    int64\n",
      "dtype: object             two     three\n",
      "count  5.000000  5.000000\n",
      "mean   4.000000  4.000000\n",
      "std    1.581139  1.581139\n",
      "min    2.000000  2.000000\n",
      "25%    3.000000  3.000000\n",
      "50%    4.000000  4.000000\n",
      "75%    5.000000  5.000000\n",
      "max    6.000000  6.000000\n"
     ]
    }
   ],
   "source": [
    "# 查看属性\n",
    "print(df.count(),df.dtypes,df.describe())   "
   ]
  },
  {
   "cell_type": "code",
   "execution_count": 136,
   "metadata": {
    "collapsed": true,
    "jupyter": {
     "outputs_hidden": true
    }
   },
   "outputs": [
    {
     "name": "stdout",
     "output_type": "stream",
     "text": [
      "Int64Index([0, 1, 2, 3, 4], dtype='int64') Index(['oo', 'tt'], dtype='object')\n",
      "   oo  tt\n",
      "0   2   2\n",
      "1   3   3\n",
      "2   4   4\n",
      "3  10   5\n",
      "4   6   6\n",
      "   oo  tt\n",
      "3  10   5\n",
      "4   6   6\n",
      "   oo  tt\n",
      "0   2   2\n",
      "1   3   3\n",
      "2   4   4\n",
      "3  10  15\n",
      "4   6   6\n"
     ]
    }
   ],
   "source": [
    "# 获取、修改index，columns\n",
    "print(df.index,df.columns)\n",
    "df.rename(columns={'two':'oo','three':'tt'},inplace=True)\n",
    "df.index=np.arange(df.shape[0])\n",
    "print(df)\n",
    "\n",
    "#条件访问数据\n",
    "choose= (df['oo']>=5)\n",
    "print(df.loc[choose,:])\n",
    "\n",
    "# 修改数据\n",
    "df.loc[3,'oo']=10\n",
    "df.iloc[3,1]=15\n",
    "print(df)"
   ]
  },
  {
   "cell_type": "markdown",
   "metadata": {},
   "source": [
    "## 3 ~~Panel~~ MultiIndex\n",
    "\n",
    "Panel主要用于三维数据，但在实际中，高维数据常使用多层级索引MultiIndex表示，操作更加灵活，可以表示3维，甚至更高维的数据。因此在新版Pandas中，panel已被移除"
   ]
  },
  {
   "cell_type": "code",
   "execution_count": 147,
   "metadata": {},
   "outputs": [
    {
     "name": "stdout",
     "output_type": "stream",
     "text": [
      "                  math       physics      \n",
      "                 term1 term2   term1 term2\n",
      "class1 LiLei        68    67      83    73\n",
      "       HanMeimei    76    83      70    97\n",
      "class2 DaChun       84    95      55    72\n",
      "       RuHua        81    75      55    56\n",
      "                  math       physics      \n",
      "                 term1 term2   term1 term2\n",
      "class  names                              \n",
      "class1 LiLei        68    67      83    73\n",
      "       HanMeimei    76    83      70    97\n",
      "class2 DaChun       84    95      55    72\n",
      "       RuHua        81    75      55    56\n",
      "class   names    \n",
      "class1  LiLei        68\n",
      "        HanMeimei    76\n",
      "class2  DaChun       84\n",
      "        RuHua        81\n",
      "Name: term1, dtype: int32\n",
      "           math       physics      \n",
      "          term1 term2   term1 term2\n",
      "names                              \n",
      "LiLei        68    67      83    73\n",
      "HanMeimei    76    83      70    97\n"
     ]
    }
   ],
   "source": [
    "p=pd.DataFrame(np.random.randint(50,100,size=(4,4)),columns=pd.MultiIndex.from_product([[\"math\",\"physics\"],[\"term1\",\"term2\"]]),index=pd.MultiIndex.from_tuples([(\"class1\",\"LiLei\"),(\"class1\",\"HanMeimei\"),(\"class2\",\"DaChun\"),(\"class2\",\"RuHua\")]))\n",
    "print(p)\n",
    "\n",
    "p.index.names=[\"class\",\"names\"]\n",
    "print(p)\n",
    "\n",
    "# MultiIndex索引\n",
    "print(p[\"math\"][\"term1\"])\n",
    "print(p.loc[\"class1\"])"
   ]
  },
  {
   "cell_type": "code",
   "execution_count": null,
   "metadata": {},
   "outputs": [],
   "source": []
  }
 ],
 "metadata": {
  "kernelspec": {
   "display_name": "Python 3",
   "language": "python",
   "name": "python3"
  },
  "language_info": {
   "codemirror_mode": {
    "name": "ipython",
    "version": 3
   },
   "file_extension": ".py",
   "mimetype": "text/x-python",
   "name": "python",
   "nbconvert_exporter": "python",
   "pygments_lexer": "ipython3",
   "version": "3.7.4"
  }
 },
 "nbformat": 4,
 "nbformat_minor": 4
}
