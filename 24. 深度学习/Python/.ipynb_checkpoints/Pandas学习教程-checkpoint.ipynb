{
 "cells": [
  {
   "cell_type": "markdown",
   "metadata": {},
   "source": [
    "# Pandas学习教程\n",
    "\n",
    "**Author Github: @deeptrial**\n",
    "\n",
    "2021-04-01\n",
    "\n",
    "East China Normal University"
   ]
  },
  {
   "cell_type": "code",
   "execution_count": 2,
   "metadata": {},
   "outputs": [],
   "source": [
    "import pandas as pd\n",
    "import numpy as np\n",
    "import math\n",
    "\n",
    "def separate():\n",
    "    print(\"--------------------------------\")"
   ]
  },
  {
   "cell_type": "markdown",
   "metadata": {
    "tags": []
   },
   "source": [
    "## Pandas的数据结构\n",
    "\n",
    "Pandas具有~~3~~ 2种数据结构，分别是Series（系列），DataFrame（数据帧），~~Panel（面板）~~。三种数据结构均建立在numpy基础上，因此具有较好的执行效率。这些数据结构的特点如下:\n",
    "\n",
    "- Series表示1维均匀数组，数组尺寸**不可变**，数据值可变\n",
    "- DataFrame表示2维异构数组，数组尺寸可变，数据值可变\n",
    "- ~~Panel表示表示3维异构数组，数组尺寸可变，数据值可变~~ 新版本已使用MultiIndex代替Panel\n",
    "\n",
    "因此三种数据结构间的关系是：Series可组成DataFrame，~~DataFrame可组成Panel~~"
   ]
  },
  {
   "cell_type": "markdown",
   "metadata": {
    "tags": [],
    "toc-hr-collapsed": true
   },
   "source": [
    "## 1 Series\n",
    "\n",
    "Series是Pandas的主要数据结构之一，是带标签的一维数组。理论上数组内的值的类型必须是统一的，但由于不同类型的数据在python中都可作为object，所以这一问题常被忽视。\n",
    "\n",
    "Series结构在存储时分为两个部分（如图所示）：\n",
    "- values：一维数组数据\n",
    "- index：数据索引标签\n",
    "\n",
    "特点：**数据对齐是内在的**，标签与数据默认对齐，除非特殊情况，一般不会断开连接，因此通过索引取值非常方便，不需要循环，可以直接通过字典方式，key 获取value\n",
    "\n",
    "<img src=\"https://pic1.zhimg.com/v2-3c3e48377d299270579be01f6d9fb79c_b.jpg\" width = \"150\" height = \"100\" alt=\"Series结构\" align=center />"
   ]
  },
  {
   "cell_type": "markdown",
   "metadata": {
    "tags": []
   },
   "source": [
    "### 创建Series\n",
    "\n",
    "Pandas系列可以使用以下构造函数创建：\n",
    "\n",
    "```python\n",
    "pandas.Series( data, index, dtype, copy)\n",
    "```\n",
    "- data: 数据形式，可以是numpy array，list, dictionary， constant\n",
    "- index：索引值，默认的隐式数字索引：np.arange(n)，下标从0开始\n",
    "- dtype: 数据类型，默认将自动推断\n",
    "- copy：表示是否复制数据，默认False"
   ]
  },
  {
   "cell_type": "code",
   "execution_count": 25,
   "metadata": {
    "tags": []
   },
   "outputs": [
    {
     "name": "stdout",
     "output_type": "stream",
     "text": [
      "from list:\n",
      " 0    11.0\n",
      "1     3.5\n",
      "2     2.0\n",
      "3     5.0\n",
      "4    12.0\n",
      "dtype: float64\n",
      "--------------------------------\n",
      "from constant:\n",
      " a    \n",
      "b    \n",
      "c    \n",
      "d    \n",
      "4    \n",
      "dtype: object\n",
      "--------------------------------\n",
      "from dict:\n",
      " a    1\n",
      "b    2\n",
      "c    3\n",
      "d    4\n",
      "e    4\n",
      "dtype: int64\n",
      "--------------------------------\n",
      "from array:\n",
      " a    8\n",
      "b    1\n",
      "c    6\n",
      "d    3\n",
      "dtype: int64\n",
      "--------------------------------\n"
     ]
    }
   ],
   "source": [
    "# 创建Series\n",
    "s1=pd.Series([11,3.5,2,5,12])  #从list创建,这里没有给出index，因此使用隐式索引\n",
    "print(\"from list:\\n\",s1)\n",
    "separate()\n",
    "\n",
    "s2=pd.Series('',index=['a','b','c','d',4])   #从constant创建，依据index长度创建值相同的数组\n",
    "print(\"from constant:\\n\",s2)\n",
    "separate()\n",
    "\n",
    "s3=pd.Series({'a':1,'b':2,'c':3,'d':4,'e':4})   #从dict创建 key变为index，value是数组数据\n",
    "print(\"from dict:\\n\",s3)\n",
    "separate()\n",
    "\n",
    "s4 = pd.Series(np.random.randint(1,10,size=(4,)),index=['a','b','c','d'])\n",
    "print(\"from array:\\n\",s4)\n",
    "separate()"
   ]
  },
  {
   "cell_type": "markdown",
   "metadata": {
    "tags": []
   },
   "source": [
    "### Series切片和索引\n",
    "\n",
    "Series的索引和切片提供了访问、修改Series部分数据的功能。\n",
    "- #### **iloc** vs **loc**\n",
    " - iloc是通过隐式索引访问数据的操作，内部只能填写数字下标\n",
    " - loc是通过显式索引访问数据的操作，内部填写自定义的标签，可以是数字或字符串等"
   ]
  },
  {
   "cell_type": "code",
   "execution_count": 26,
   "metadata": {
    "tags": []
   },
   "outputs": [
    {
     "name": "stdout",
     "output_type": "stream",
     "text": [
      "分别访问s1的第1行、第2行： 3.5 2.0\n",
      "同时访问s1的第1行、第2行： 1    3.5\n",
      "2    2.0\n",
      "dtype: float64\n",
      "--------------------------------\n",
      "分别访问s3的第1行、第2行： 2 3\n",
      "同时访问s3的第1行、第2行： b    2\n",
      "c    3\n",
      "dtype: int64\n",
      "--------------------------------\n",
      "分别访问s1的第1行、第2行： 3.5 2.0\n",
      "同时访问s1的第1行、第2行： 1    3.5\n",
      "2    2.0\n",
      "dtype: float64\n",
      "--------------------------------\n",
      "分别访问s3的第1行、第2行： 2 3\n",
      "同时访问s3的第1行、第2行： b    2\n",
      "c    3\n",
      "dtype: int64\n",
      "--------------------------------\n"
     ]
    }
   ],
   "source": [
    "# 通过隐式索引访问数据\n",
    "# 任何Series都可通过隐式索引访问数据\n",
    "print(\"分别访问s1的第1行、第2行：\",s1.iloc[1],s1.iloc[2])  #返回具体数值\n",
    "print(\"同时访问s1的第1行、第2行：\",s1.iloc[[1,2]])    # 返回Series切片\n",
    "separate()\n",
    "\n",
    "print(\"分别访问s3的第1行、第2行：\",s3.iloc[1],s3.iloc[2])  #返回具体数值\n",
    "print(\"同时访问s3的第1行、第2行：\",s3.iloc[[1,2]])    # 返回Series切片\n",
    "separate()\n",
    "\n",
    "\n",
    "# 通过显式索引访问数据\n",
    "# 对于自定义index的Series，可以直接通过指定index访问数据\n",
    "# 对于没有自定义index的Series，可以直接指定index行号访问数据\n",
    "print(\"分别访问s1的第1行、第2行：\",s1[1],s1[2])  #返回具体数值\n",
    "print(\"同时访问s1的第1行、第2行：\",s1.loc[[1,2]])    # 返回Series切片\n",
    "separate()\n",
    "\n",
    "print(\"分别访问s3的第1行、第2行：\",s3['b'],s3['c'])  #返回具体数值\n",
    "print(\"同时访问s3的第1行、第2行：\",s3.loc[['b','c']])    # 返回Series切片\n",
    "separate()"
   ]
  },
  {
   "cell_type": "markdown",
   "metadata": {
    "tags": []
   },
   "source": [
    "### Series基本操作\n",
    "\n",
    "Series的基本操作包括：\n",
    "- #### 显式数据的头和尾"
   ]
  },
  {
   "cell_type": "code",
   "execution_count": 27,
   "metadata": {},
   "outputs": [
    {
     "data": {
      "text/plain": [
       "0    11.0\n",
       "1     3.5\n",
       "dtype: float64"
      ]
     },
     "execution_count": 27,
     "metadata": {},
     "output_type": "execute_result"
    }
   ],
   "source": [
    "# 显式前n行\n",
    "s1.head(2)\n",
    "\n",
    "#显式末尾n行\n",
    "#s1.tail(2)"
   ]
  },
  {
   "cell_type": "markdown",
   "metadata": {},
   "source": [
    "- #### 获取、修改index\n",
    "\n",
    "Series数据结构在定义后无法改变数组的长度，但是可以修改index"
   ]
  },
  {
   "cell_type": "code",
   "execution_count": 19,
   "metadata": {},
   "outputs": [
    {
     "name": "stdout",
     "output_type": "stream",
     "text": [
      "[7 8 2 9] Index(['a', 'c', 'b', 'd'], dtype='object')\n",
      "a    7\n",
      "c    8\n",
      "b    2\n",
      "d    9\n",
      "dtype: int64\n"
     ]
    }
   ],
   "source": [
    "#获取values，index\n",
    "print(s4.values,s4.index)\n",
    "\n",
    "#修改index\n",
    "s4.index=['a','c','b','d']\n",
    "print(s4)"
   ]
  },
  {
   "cell_type": "markdown",
   "metadata": {},
   "source": [
    "- #### 显式统计信息"
   ]
  },
  {
   "cell_type": "code",
   "execution_count": 30,
   "metadata": {
    "tags": []
   },
   "outputs": [
    {
     "name": "stdout",
     "output_type": "stream",
     "text": [
      "count     5.000000\n",
      "mean      6.700000\n",
      "std       4.522168\n",
      "min       2.000000\n",
      "25%       3.500000\n",
      "50%       5.000000\n",
      "75%      11.000000\n",
      "max      12.000000\n",
      "dtype: float64\n",
      "--------------------------------\n",
      "data type: float64\n",
      "std: 4.522167621838006\n"
     ]
    }
   ],
   "source": [
    "# 完整的统计信息\n",
    "print(s1.describe())\n",
    "separate()\n",
    "\n",
    "# 显式指定信息\n",
    "print(\"data type:\",s1.dtype)\n",
    "print(\"std:\",s1.std())"
   ]
  },
  {
   "cell_type": "markdown",
   "metadata": {},
   "source": [
    "- #### 去重 unique"
   ]
  },
  {
   "cell_type": "code",
   "execution_count": 21,
   "metadata": {
    "tags": []
   },
   "outputs": [
    {
     "name": "stdout",
     "output_type": "stream",
     "text": [
      "[1 2 3 4]\n",
      "a    1\n",
      "b    2\n",
      "c    3\n",
      "d    4\n",
      "e    4\n",
      "dtype: int64\n"
     ]
    }
   ],
   "source": [
    "print(s3.unique()) \n",
    "print(s3)  #unique不会修改原始数据，且返回的是list结果"
   ]
  },
  {
   "cell_type": "markdown",
   "metadata": {},
   "source": [
    "- #### 判断缺失值\n",
    " - notnull()表示不为空返回True，为空返回False\n",
    " - isnull()表示不为空返回False，为空返回True"
   ]
  },
  {
   "cell_type": "code",
   "execution_count": 22,
   "metadata": {
    "collapsed": true,
    "jupyter": {
     "outputs_hidden": true
    },
    "tags": []
   },
   "outputs": [
    {
     "name": "stdout",
     "output_type": "stream",
     "text": [
      "a    1.0\n",
      "b    2.0\n",
      "c    3.0\n",
      "d    4.0\n",
      "f    NaN\n",
      "p    NaN\n",
      "dtype: float64\n",
      "--------------------------------\n",
      "isnull\n",
      ": a    False\n",
      "b    False\n",
      "c    False\n",
      "d    False\n",
      "f     True\n",
      "p     True\n",
      "dtype: bool\n",
      "--------------------------------\n",
      "notnull\n",
      ": a     True\n",
      "b     True\n",
      "c     True\n",
      "d     True\n",
      "f    False\n",
      "p    False\n",
      "dtype: bool\n",
      "--------------------------------\n",
      "a    1.0\n",
      "b    2.0\n",
      "c    3.0\n",
      "d    4.0\n",
      "dtype: float64\n"
     ]
    }
   ],
   "source": [
    "sp=pd.Series({'a':1,'b':2,'c':3,'d':4,'e':4},index=['a','b','c','d','f','p'])   #构造一个含有Nan的Series\n",
    "print(sp)\n",
    "separate()\n",
    "\n",
    "print(\"isnull\\n:\",sp.isnull())\n",
    "separate()\n",
    "\n",
    "print(\"notnull\\n:\",sp.notnull())\n",
    "separate()\n",
    "\n",
    "print(sp[sp.notnull()]) #根据bool类型的Series访问数据，可提取非空数据或空数据"
   ]
  },
  {
   "cell_type": "markdown",
   "metadata": {},
   "source": [
    "- #### 标量运算\n",
    "\n",
    "与标量的运算：\n",
    "\n",
    "Pandas支持直接对Series进行运算，包括四则运算、条件判断、numpy内的函数运算"
   ]
  },
  {
   "cell_type": "code",
   "execution_count": 23,
   "metadata": {
    "tags": []
   },
   "outputs": [
    {
     "name": "stdout",
     "output_type": "stream",
     "text": [
      "0    16.0\n",
      "1     8.5\n",
      "2     7.0\n",
      "3    10.0\n",
      "4    17.0\n",
      "dtype: float64\n",
      "0    22.0\n",
      "1     7.0\n",
      "2     4.0\n",
      "3    10.0\n",
      "4    24.0\n",
      "dtype: float64\n",
      "0    5.50\n",
      "1    1.75\n",
      "2    1.00\n",
      "3    2.50\n",
      "4    6.00\n",
      "dtype: float64\n",
      "0    6.0\n",
      "1   -1.5\n",
      "2   -3.0\n",
      "3    0.0\n",
      "4    7.0\n",
      "dtype: float64\n",
      "--------------------------------\n",
      "False\n",
      "0     True\n",
      "1    False\n",
      "2    False\n",
      "3    False\n",
      "4     True\n",
      "dtype: bool\n",
      "--------------------------------\n",
      "0     59874.141715\n",
      "1        33.115452\n",
      "2         7.389056\n",
      "3       148.413159\n",
      "4    162754.791419\n",
      "dtype: float64\n",
      "0    3.316625\n",
      "1    1.870829\n",
      "2    1.414214\n",
      "3    2.236068\n",
      "4    3.464102\n",
      "dtype: float64\n"
     ]
    }
   ],
   "source": [
    "# 四则运算\n",
    "print(s1+5)\n",
    "print(s1*2)\n",
    "print(s1/2)\n",
    "print(s1-5)\n",
    "separate()\n",
    "\n",
    "# 条件判断\n",
    "print(7 in s1)\n",
    "print(s1>5)\n",
    "separate()\n",
    "\n",
    "# 函数运算\n",
    "print(np.exp(s1)) #无法使用math计算 print(math.exp(s))\n",
    "print(np.sqrt(s1))"
   ]
  },
  {
   "cell_type": "markdown",
   "metadata": {},
   "source": [
    "- #### Series的运算\n",
    "\n",
    "Series与Series的运算包括四则运算、拼接\n",
    "\n",
    "Series自生的运算包括删除、排序"
   ]
  },
  {
   "cell_type": "code",
   "execution_count": 24,
   "metadata": {
    "tags": []
   },
   "outputs": [
    {
     "name": "stdout",
     "output_type": "stream",
     "text": [
      "s3:\n",
      " a    1\n",
      "b    2\n",
      "c    3\n",
      "d    4\n",
      "e    4\n",
      "dtype: int64\n",
      "--------------------------------\n",
      "s4:\n",
      " a    7\n",
      "c    8\n",
      "b    2\n",
      "d    9\n",
      "dtype: int64\n",
      "--------------------------------\n",
      "s3+s4:\n",
      " a     8.0\n",
      "b     4.0\n",
      "c    11.0\n",
      "d    13.0\n",
      "e     NaN\n",
      "dtype: float64\n",
      "--------------------------------\n",
      "append:\n",
      " a    1\n",
      "b    2\n",
      "c    3\n",
      "d    4\n",
      "e    4\n",
      "0    8\n",
      "dtype: int64\n",
      "--------------------------------\n",
      "del index 0:\n",
      " a    1\n",
      "b    2\n",
      "c    3\n",
      "d    4\n",
      "e    4\n",
      "dtype: int64\n",
      "--------------------------------\n",
      "d    9\n",
      "c    8\n",
      "b    2\n",
      "a    7\n",
      "dtype: int64\n",
      "d    9\n",
      "c    8\n",
      "a    7\n",
      "b    2\n",
      "dtype: int64\n"
     ]
    }
   ],
   "source": [
    "#Series与Series运算\n",
    "print(\"s3:\\n\",s3) \n",
    "separate()\n",
    "print(\"s4:\\n\",s4)\n",
    "separate()\n",
    "print(\"s3+s4:\\n\",s3+s4) #支持四则运算，index相同的直接计算，无法匹配的保留并置为Nan\n",
    "separate()\n",
    "\n",
    "\n",
    "#Series与Series的拼接\n",
    "s3=s3.append(pd.Series([8])) #添加的Series在没有指定index时，采用隐式index（0，1，2，...）\n",
    "print(\"append:\\n\",s3)\n",
    "separate()\n",
    "\n",
    "#Series删除元素\n",
    "#s3=s3.drop(0)          #drop中填写index，可以是隐式index，也可以是自定义的index\n",
    "s3.drop(0,inplace=True) #inplace原地修改\n",
    "print(\"del index 0:\\n\",s3)\n",
    "separate()\n",
    "\n",
    "#按照index大小排序\n",
    "print(s4.sort_index(ascending = False))  #按照索引大小排序  不改变原始Series\n",
    "print(s4.sort_values(ascending = False))  #按照值大小排序 "
   ]
  },
  {
   "cell_type": "markdown",
   "metadata": {
    "tags": []
   },
   "source": [
    "## 2 DataFrame\n",
    "\n",
    "DataFrame是pandas中的一个非常重要的二维数据结构。相比Series，在dataframe的每个维度上均存在index，如图所示：\n",
    "\n",
    "<img src=\"https://pic1.zhimg.com/v2-b03baaccf0ca7ec26c97a979fc6540f0_b.jpg\" width = \"300\" height = \"250\" alt=\"Series结构\" align=center />\n",
    "\n",
    "作为二维数据结构，DataFrame可用于表示数据表等。"
   ]
  },
  {
   "cell_type": "markdown",
   "metadata": {},
   "source": [
    "### 创建DataFrame\n",
    "\n",
    "pandas中的DataFrame可以使用以下构造函数创建:\n",
    "```python\n",
    "pandas.DataFrame( data, index, columns, dtype, copy)\n",
    "```\n",
    "- data: 数据形式，可以是numpy array，list, map,dictionary， constant,dataframe\n",
    "- index：行标签，默认np.arange(n)\n",
    "- columns：列标签，默认np.arange(n)\n",
    "- dtype: 数据类型，默认将自动推断\n",
    "- copy：表示是否复制数据，默认False\n"
   ]
  },
  {
   "cell_type": "code",
   "execution_count": 54,
   "metadata": {
    "tags": []
   },
   "outputs": [
    {
     "name": "stdout",
     "output_type": "stream",
     "text": [
      "   0  1  2\n",
      "0  1  a  1\n",
      "1  2  b  2\n",
      "2  3  c  3\n",
      "3  4  d  4\n",
      "--------------------------------\n",
      "   one  two\n",
      "a  1.0    1\n",
      "b  2.0    2\n",
      "c  3.0    3\n",
      "d  NaN    4\n",
      "--------------------------------\n",
      "   one  two\n",
      "0    1    2\n",
      "1    2    3\n",
      "2    3    4\n",
      "3    4    5\n",
      "4    5    6\n"
     ]
    }
   ],
   "source": [
    "# 创建DataFrame\n",
    "df3=pd.DataFrame([[1,'a',1],[2,'b',2],[3,'c',3],[4,'d',4]],columns=[0,1,2])  #从list创建dataframe\n",
    "print(df3)\n",
    "separate()\n",
    "\n",
    "#从dict创建dataframe\n",
    "#显式指定行的index时，需要使用Series数据结构\n",
    "d = {'one' : pd.Series([1, 2, 3], index=['a', 'b', 'c']), 'two' : pd.Series([1, 2, 3, 4], index=['a', 'b', 'c', 'd'])}\n",
    "df1 = pd.DataFrame(d)\n",
    "print(df1)\n",
    "separate()\n",
    "\n",
    "d={'one':[1,2,3,4,5],\"two\":[2,3,4,5,6]} #使用隐式index\n",
    "df = pd.DataFrame(d)\n",
    "print(df)"
   ]
  },
  {
   "cell_type": "markdown",
   "metadata": {},
   "source": [
    "### DataFrame切分和索引\n",
    "\n",
    "同Series结构一样，dataframe的索引和切片提供了访问、修改dataframe部分数据的功能。\n",
    "\n",
    "#### **iloc** vs **loc** 初步\n",
    " - 对于二维数据，行列的顺序是：**df.iloc[行号,列号]和df.loc[行索引,列索引]**\n",
    " - iloc是通过隐式索引访问数据的操作，内部只能填写数字下标\n",
    " - loc是通过显式索引访问数据的操作，内部填写自定义的标签，可以是数字或字符串等\n",
    " - iloc[索引：索引]是左闭右开的，loc[索引：索引]是左闭右闭的\n",
    " - 对于默认index的dataframe而言，iloc和loc是一致的\n",
    " \n"
   ]
  },
  {
   "cell_type": "code",
   "execution_count": 55,
   "metadata": {
    "tags": []
   },
   "outputs": [
    {
     "name": "stdout",
     "output_type": "stream",
     "text": [
      "column select:    one  two\n",
      "0    1    2\n",
      "1    2    3\n",
      "2    3    4\n",
      "3    4    5\n",
      "4    5    6\n",
      "--------------------------------\n",
      "column select:    one  two\n",
      "0    1    2\n",
      "1    2    3\n",
      "2    3    4\n",
      "3    4    5\n",
      "4    5    6\n",
      "--------------------------------\n",
      "columns select:    one  two\n",
      "0    1    2\n",
      "1    2    3\n",
      "2    3    4\n",
      "3    4    5\n",
      "4    5    6\n",
      "--------------------------------\n",
      "select row    one  two\n",
      "a  1.0    1\n",
      "--------------------------------\n",
      "select row    one  two\n",
      "a  1.0    1\n",
      "b  2.0    2\n",
      "--------------------------------\n",
      "select row    one  two\n",
      "a  1.0    1\n",
      "b  2.0    2\n",
      "--------------------------------\n"
     ]
    }
   ],
   "source": [
    "#列选择\n",
    "print('column select:',df[['one','two']]) #直接引用列名 df['one']也可以， 但df[列名：列名] 不可以\n",
    "separate()\n",
    "\n",
    "print('column select:',df.iloc[:,[0,1]])  #与上面是一致的\n",
    "separate()\n",
    "\n",
    "print('columns select:',df.loc[:,['one','two']]) #与上面是一致的\n",
    "separate()\n",
    "\n",
    "\n",
    "#行选择\n",
    "print('select row',df1[0:1])  #直接引用行名 df[行索引：行索引] 可以   但df[0]不可以（能执行但意义不同，行号被转化为列名）\n",
    "separate()\n",
    "\n",
    "print('select row',df1.loc[['a','b']]) #与上面是一致的\n",
    "separate()\n",
    "\n",
    "print('select row',df1.iloc[[0,1]]) #与上面是一致的\n",
    "separate()"
   ]
  },
  {
   "cell_type": "markdown",
   "metadata": {},
   "source": [
    "#### iloc和loc的返回值\n",
    "\n",
    "不同于Series，在dataframe中,[索引]与[[索引]]的返回值是不同的,具体而言：\n",
    "- [索引] 返回Series结构\n",
    "- [[索引]] 返回DataFrame结构\n",
    "- [索引：索引] 返回DataFrame结构\n"
   ]
  },
  {
   "cell_type": "code",
   "execution_count": 56,
   "metadata": {},
   "outputs": [
    {
     "name": "stdout",
     "output_type": "stream",
     "text": [
      "[index]: <class 'pandas.core.series.Series'>\n",
      "[index]: <class 'pandas.core.frame.DataFrame'>\n",
      "[index]: <class 'pandas.core.frame.DataFrame'>\n",
      "[index]: <class 'pandas.core.series.Series'>\n",
      "[index]: <class 'pandas.core.frame.DataFrame'>\n",
      "[index]: <class 'pandas.core.frame.DataFrame'>\n"
     ]
    }
   ],
   "source": [
    "#loc\n",
    "print(\"[index]:\",type(df1.loc['a']))\n",
    "print(\"[index]:\",type(df1.loc[['a']]))\n",
    "print(\"[index]:\",type(df1.loc['a':'b']))\n",
    "\n",
    "#iloc\n",
    "print(\"[index]:\",type(df1.iloc[0]))\n",
    "print(\"[index]:\",type(df1.iloc[[0]]))\n",
    "print(\"[index]:\",type(df1.iloc[0:1]))"
   ]
  },
  {
   "cell_type": "markdown",
   "metadata": {},
   "source": [
    "#### at vs iat\n",
    "at与iat用于获取dataframe中的一个值，其中at与loc相似，iat与iloc相似"
   ]
  },
  {
   "cell_type": "code",
   "execution_count": 57,
   "metadata": {},
   "outputs": [
    {
     "name": "stdout",
     "output_type": "stream",
     "text": [
      "1.0\n",
      "1.0\n"
     ]
    }
   ],
   "source": [
    "print(df1.at['a','one'])\n",
    "print(df1.iat[0,0])"
   ]
  },
  {
   "cell_type": "markdown",
   "metadata": {},
   "source": [
    "#### bool表达式作为索引"
   ]
  },
  {
   "cell_type": "code",
   "execution_count": 58,
   "metadata": {
    "tags": []
   },
   "outputs": [
    {
     "name": "stdout",
     "output_type": "stream",
     "text": [
      "   one  two\n",
      "a  1.0  1.0\n",
      "b  NaN  NaN\n",
      "c  NaN  NaN\n",
      "d  NaN  NaN\n",
      "--------------------------------\n",
      "a    False\n",
      "b    False\n",
      "c     True\n",
      "d    False\n",
      "Name: one, dtype: bool\n",
      "   one  two\n",
      "c  3.0    3\n",
      "--------------------------------\n",
      "     one    two\n",
      "a  False  False\n",
      "b  False  False\n",
      "c   True   True\n",
      "d  False   True\n",
      "   one  two\n",
      "a  NaN  NaN\n",
      "b  NaN  NaN\n",
      "c  3.0  3.0\n",
      "d  NaN  4.0\n"
     ]
    }
   ],
   "source": [
    "print(df1[df1<2]) #返回一个dataframe，True的部分保留原值，False部分为NaN\n",
    "separate()\n",
    "#单列\n",
    "print(df1['one']>2) #返回一个Series\n",
    "print(df1[df1['one']>2]) #保留判断为True的行（包含所有列）\n",
    "separate()\n",
    "#多列\n",
    "print(df1[['one','two']]>2) #返回一个dataframe\n",
    "print(df1[df1[['one','two']]>2]) #返回一个dataframe，True的部分保留原值，False部分为NaN"
   ]
  },
  {
   "cell_type": "markdown",
   "metadata": {
    "tags": []
   },
   "source": [
    "### DataFrame基本操作\n",
    "\n",
    "Series中的操作如 head tail describe 等都可以使用，以下对一些特别的操作做出说明：\n",
    "\n",
    "- unique 只能对某一列进行,即unique只能对Series使用\n",
    "\n",
    "#### 添加/修改行或列"
   ]
  },
  {
   "cell_type": "code",
   "execution_count": 59,
   "metadata": {
    "tags": []
   },
   "outputs": [
    {
     "name": "stdout",
     "output_type": "stream",
     "text": [
      "   one  two  three\n",
      "a  1.0    1      3\n",
      "b  2.0    2      3\n",
      "c  3.0    3      3\n",
      "d  NaN    4      3\n",
      "--------------------------------\n",
      "   one  two  three\n",
      "a    1    1      3\n",
      "b    1    2      3\n",
      "c    1    3      3\n",
      "d    1    4      3\n",
      "--------------------------------\n",
      "   one  two  three\n",
      "a    1    1      3\n",
      "b    1    2      3\n",
      "c    1    3      3\n",
      "d    1    4      3\n",
      "e    5    5      5\n",
      "--------------------------------\n",
      "   one  two  three\n",
      "a    1    1      3\n",
      "b    1    2      3\n",
      "c    1    3      3\n",
      "d    1    4      3\n",
      "e    7    7      7\n"
     ]
    }
   ],
   "source": [
    "#添加列\n",
    "df1[\"three\"]=3\n",
    "print(df1)\n",
    "separate()\n",
    "\n",
    "#修改列\n",
    "df1[\"one\"]=1\n",
    "print(df1)\n",
    "separate()\n",
    "\n",
    "#添加行\n",
    "df1.loc['e']=5\n",
    "print(df1)\n",
    "separate()\n",
    "\n",
    "#修改行\n",
    "df1.loc['e']=7\n",
    "print(df1)"
   ]
  },
  {
   "cell_type": "markdown",
   "metadata": {},
   "source": [
    "#### 删除行或列"
   ]
  },
  {
   "cell_type": "code",
   "execution_count": 60,
   "metadata": {
    "collapsed": true,
    "jupyter": {
     "outputs_hidden": true
    },
    "tags": []
   },
   "outputs": [
    {
     "name": "stdout",
     "output_type": "stream",
     "text": [
      "   one  two\n",
      "a    1    1\n",
      "b    1    2\n",
      "c    1    3\n",
      "d    1    4\n",
      "e    7    7\n",
      "   one  two\n",
      "b    1    2\n",
      "c    1    3\n",
      "d    1    4\n",
      "e    7    7\n"
     ]
    },
    {
     "ename": "KeyError",
     "evalue": "'three'",
     "output_type": "error",
     "traceback": [
      "\u001b[1;31m---------------------------------------------------------------------------\u001b[0m",
      "\u001b[1;31mKeyError\u001b[0m                                  Traceback (most recent call last)",
      "\u001b[1;32mD:\\PYTHON37\\lib\\site-packages\\pandas\\core\\indexes\\base.py\u001b[0m in \u001b[0;36mget_loc\u001b[1;34m(self, key, method, tolerance)\u001b[0m\n\u001b[0;32m   2896\u001b[0m             \u001b[1;32mtry\u001b[0m\u001b[1;33m:\u001b[0m\u001b[1;33m\u001b[0m\u001b[1;33m\u001b[0m\u001b[0m\n\u001b[1;32m-> 2897\u001b[1;33m                 \u001b[1;32mreturn\u001b[0m \u001b[0mself\u001b[0m\u001b[1;33m.\u001b[0m\u001b[0m_engine\u001b[0m\u001b[1;33m.\u001b[0m\u001b[0mget_loc\u001b[0m\u001b[1;33m(\u001b[0m\u001b[0mkey\u001b[0m\u001b[1;33m)\u001b[0m\u001b[1;33m\u001b[0m\u001b[1;33m\u001b[0m\u001b[0m\n\u001b[0m\u001b[0;32m   2898\u001b[0m             \u001b[1;32mexcept\u001b[0m \u001b[0mKeyError\u001b[0m\u001b[1;33m:\u001b[0m\u001b[1;33m\u001b[0m\u001b[1;33m\u001b[0m\u001b[0m\n",
      "\u001b[1;32mpandas\\_libs\\index.pyx\u001b[0m in \u001b[0;36mpandas._libs.index.IndexEngine.get_loc\u001b[1;34m()\u001b[0m\n",
      "\u001b[1;32mpandas\\_libs\\index.pyx\u001b[0m in \u001b[0;36mpandas._libs.index.IndexEngine.get_loc\u001b[1;34m()\u001b[0m\n",
      "\u001b[1;32mpandas\\_libs\\hashtable_class_helper.pxi\u001b[0m in \u001b[0;36mpandas._libs.hashtable.PyObjectHashTable.get_item\u001b[1;34m()\u001b[0m\n",
      "\u001b[1;32mpandas\\_libs\\hashtable_class_helper.pxi\u001b[0m in \u001b[0;36mpandas._libs.hashtable.PyObjectHashTable.get_item\u001b[1;34m()\u001b[0m\n",
      "\u001b[1;31mKeyError\u001b[0m: 'three'",
      "\nDuring handling of the above exception, another exception occurred:\n",
      "\u001b[1;31mKeyError\u001b[0m                                  Traceback (most recent call last)",
      "\u001b[1;32m<ipython-input-60-30687f5374aa>\u001b[0m in \u001b[0;36m<module>\u001b[1;34m\u001b[0m\n\u001b[0;32m      9\u001b[0m \u001b[1;33m\u001b[0m\u001b[0m\n\u001b[0;32m     10\u001b[0m \u001b[1;31m#删除方法3\u001b[0m\u001b[1;33m\u001b[0m\u001b[1;33m\u001b[0m\u001b[1;33m\u001b[0m\u001b[0m\n\u001b[1;32m---> 11\u001b[1;33m \u001b[0mdelCol\u001b[0m\u001b[1;33m=\u001b[0m\u001b[0mdf1\u001b[0m\u001b[1;33m.\u001b[0m\u001b[0mpop\u001b[0m\u001b[1;33m(\u001b[0m\u001b[1;34m\"three\"\u001b[0m\u001b[1;33m)\u001b[0m \u001b[1;31m#返回删除的列 原地修改  只能删除列\u001b[0m\u001b[1;33m\u001b[0m\u001b[1;33m\u001b[0m\u001b[0m\n\u001b[0m",
      "\u001b[1;32mD:\\PYTHON37\\lib\\site-packages\\pandas\\core\\generic.py\u001b[0m in \u001b[0;36mpop\u001b[1;34m(self, item)\u001b[0m\n\u001b[0;32m    860\u001b[0m         \u001b[1;36m3\u001b[0m  \u001b[0mmonkey\u001b[0m        \u001b[0mNaN\u001b[0m\u001b[1;33m\u001b[0m\u001b[1;33m\u001b[0m\u001b[0m\n\u001b[0;32m    861\u001b[0m         \"\"\"\n\u001b[1;32m--> 862\u001b[1;33m         \u001b[0mresult\u001b[0m \u001b[1;33m=\u001b[0m \u001b[0mself\u001b[0m\u001b[1;33m[\u001b[0m\u001b[0mitem\u001b[0m\u001b[1;33m]\u001b[0m\u001b[1;33m\u001b[0m\u001b[1;33m\u001b[0m\u001b[0m\n\u001b[0m\u001b[0;32m    863\u001b[0m         \u001b[1;32mdel\u001b[0m \u001b[0mself\u001b[0m\u001b[1;33m[\u001b[0m\u001b[0mitem\u001b[0m\u001b[1;33m]\u001b[0m\u001b[1;33m\u001b[0m\u001b[1;33m\u001b[0m\u001b[0m\n\u001b[0;32m    864\u001b[0m         \u001b[1;32mtry\u001b[0m\u001b[1;33m:\u001b[0m\u001b[1;33m\u001b[0m\u001b[1;33m\u001b[0m\u001b[0m\n",
      "\u001b[1;32mD:\\PYTHON37\\lib\\site-packages\\pandas\\core\\frame.py\u001b[0m in \u001b[0;36m__getitem__\u001b[1;34m(self, key)\u001b[0m\n\u001b[0;32m   2978\u001b[0m             \u001b[1;32mif\u001b[0m \u001b[0mself\u001b[0m\u001b[1;33m.\u001b[0m\u001b[0mcolumns\u001b[0m\u001b[1;33m.\u001b[0m\u001b[0mnlevels\u001b[0m \u001b[1;33m>\u001b[0m \u001b[1;36m1\u001b[0m\u001b[1;33m:\u001b[0m\u001b[1;33m\u001b[0m\u001b[1;33m\u001b[0m\u001b[0m\n\u001b[0;32m   2979\u001b[0m                 \u001b[1;32mreturn\u001b[0m \u001b[0mself\u001b[0m\u001b[1;33m.\u001b[0m\u001b[0m_getitem_multilevel\u001b[0m\u001b[1;33m(\u001b[0m\u001b[0mkey\u001b[0m\u001b[1;33m)\u001b[0m\u001b[1;33m\u001b[0m\u001b[1;33m\u001b[0m\u001b[0m\n\u001b[1;32m-> 2980\u001b[1;33m             \u001b[0mindexer\u001b[0m \u001b[1;33m=\u001b[0m \u001b[0mself\u001b[0m\u001b[1;33m.\u001b[0m\u001b[0mcolumns\u001b[0m\u001b[1;33m.\u001b[0m\u001b[0mget_loc\u001b[0m\u001b[1;33m(\u001b[0m\u001b[0mkey\u001b[0m\u001b[1;33m)\u001b[0m\u001b[1;33m\u001b[0m\u001b[1;33m\u001b[0m\u001b[0m\n\u001b[0m\u001b[0;32m   2981\u001b[0m             \u001b[1;32mif\u001b[0m \u001b[0mis_integer\u001b[0m\u001b[1;33m(\u001b[0m\u001b[0mindexer\u001b[0m\u001b[1;33m)\u001b[0m\u001b[1;33m:\u001b[0m\u001b[1;33m\u001b[0m\u001b[1;33m\u001b[0m\u001b[0m\n\u001b[0;32m   2982\u001b[0m                 \u001b[0mindexer\u001b[0m \u001b[1;33m=\u001b[0m \u001b[1;33m[\u001b[0m\u001b[0mindexer\u001b[0m\u001b[1;33m]\u001b[0m\u001b[1;33m\u001b[0m\u001b[1;33m\u001b[0m\u001b[0m\n",
      "\u001b[1;32mD:\\PYTHON37\\lib\\site-packages\\pandas\\core\\indexes\\base.py\u001b[0m in \u001b[0;36mget_loc\u001b[1;34m(self, key, method, tolerance)\u001b[0m\n\u001b[0;32m   2897\u001b[0m                 \u001b[1;32mreturn\u001b[0m \u001b[0mself\u001b[0m\u001b[1;33m.\u001b[0m\u001b[0m_engine\u001b[0m\u001b[1;33m.\u001b[0m\u001b[0mget_loc\u001b[0m\u001b[1;33m(\u001b[0m\u001b[0mkey\u001b[0m\u001b[1;33m)\u001b[0m\u001b[1;33m\u001b[0m\u001b[1;33m\u001b[0m\u001b[0m\n\u001b[0;32m   2898\u001b[0m             \u001b[1;32mexcept\u001b[0m \u001b[0mKeyError\u001b[0m\u001b[1;33m:\u001b[0m\u001b[1;33m\u001b[0m\u001b[1;33m\u001b[0m\u001b[0m\n\u001b[1;32m-> 2899\u001b[1;33m                 \u001b[1;32mreturn\u001b[0m \u001b[0mself\u001b[0m\u001b[1;33m.\u001b[0m\u001b[0m_engine\u001b[0m\u001b[1;33m.\u001b[0m\u001b[0mget_loc\u001b[0m\u001b[1;33m(\u001b[0m\u001b[0mself\u001b[0m\u001b[1;33m.\u001b[0m\u001b[0m_maybe_cast_indexer\u001b[0m\u001b[1;33m(\u001b[0m\u001b[0mkey\u001b[0m\u001b[1;33m)\u001b[0m\u001b[1;33m)\u001b[0m\u001b[1;33m\u001b[0m\u001b[1;33m\u001b[0m\u001b[0m\n\u001b[0m\u001b[0;32m   2900\u001b[0m         \u001b[0mindexer\u001b[0m \u001b[1;33m=\u001b[0m \u001b[0mself\u001b[0m\u001b[1;33m.\u001b[0m\u001b[0mget_indexer\u001b[0m\u001b[1;33m(\u001b[0m\u001b[1;33m[\u001b[0m\u001b[0mkey\u001b[0m\u001b[1;33m]\u001b[0m\u001b[1;33m,\u001b[0m \u001b[0mmethod\u001b[0m\u001b[1;33m=\u001b[0m\u001b[0mmethod\u001b[0m\u001b[1;33m,\u001b[0m \u001b[0mtolerance\u001b[0m\u001b[1;33m=\u001b[0m\u001b[0mtolerance\u001b[0m\u001b[1;33m)\u001b[0m\u001b[1;33m\u001b[0m\u001b[1;33m\u001b[0m\u001b[0m\n\u001b[0;32m   2901\u001b[0m         \u001b[1;32mif\u001b[0m \u001b[0mindexer\u001b[0m\u001b[1;33m.\u001b[0m\u001b[0mndim\u001b[0m \u001b[1;33m>\u001b[0m \u001b[1;36m1\u001b[0m \u001b[1;32mor\u001b[0m \u001b[0mindexer\u001b[0m\u001b[1;33m.\u001b[0m\u001b[0msize\u001b[0m \u001b[1;33m>\u001b[0m \u001b[1;36m1\u001b[0m\u001b[1;33m:\u001b[0m\u001b[1;33m\u001b[0m\u001b[1;33m\u001b[0m\u001b[0m\n",
      "\u001b[1;32mpandas\\_libs\\index.pyx\u001b[0m in \u001b[0;36mpandas._libs.index.IndexEngine.get_loc\u001b[1;34m()\u001b[0m\n",
      "\u001b[1;32mpandas\\_libs\\index.pyx\u001b[0m in \u001b[0;36mpandas._libs.index.IndexEngine.get_loc\u001b[1;34m()\u001b[0m\n",
      "\u001b[1;32mpandas\\_libs\\hashtable_class_helper.pxi\u001b[0m in \u001b[0;36mpandas._libs.hashtable.PyObjectHashTable.get_item\u001b[1;34m()\u001b[0m\n",
      "\u001b[1;32mpandas\\_libs\\hashtable_class_helper.pxi\u001b[0m in \u001b[0;36mpandas._libs.hashtable.PyObjectHashTable.get_item\u001b[1;34m()\u001b[0m\n",
      "\u001b[1;31mKeyError\u001b[0m: 'three'"
     ]
    }
   ],
   "source": [
    "#删除方法1\n",
    "del df1[\"three\"]  #只能删除列\n",
    "print(df1)\n",
    "\n",
    "#删除方法2 （推荐方法）\n",
    "df1=df1.drop('a',axis=0,inplace=False) #inplace=True时为原地修改\n",
    "## 对于二维的DataFrame有时需要删除行或列，可以使用axis指定，axis=1 删除列 axis=0 删除行\n",
    "print(df1)\n",
    "\n",
    "#删除方法3\n",
    "#delCol=df1.pop(\"three\") #返回删除的列 原地修改  只能删除列"
   ]
  },
  {
   "cell_type": "markdown",
   "metadata": {},
   "source": [
    "#### set_index与reset_index\n",
    "\n",
    "set_index将某列指定为行index\n",
    "\n",
    "reset_index 将现有index变为一列，新的index从0开始编号"
   ]
  },
  {
   "cell_type": "code",
   "execution_count": 70,
   "metadata": {},
   "outputs": [
    {
     "name": "stdout",
     "output_type": "stream",
     "text": [
      "   one  two\n",
      "b    1    2\n",
      "c    1    3\n",
      "d    1    4\n",
      "e    7    7\n",
      "--------------------------------\n",
      "     two\n",
      "one     \n",
      "1      2\n",
      "1      3\n",
      "1      4\n",
      "7      7\n",
      "--------------------------------\n",
      "   one  two\n",
      "0    1    2\n",
      "1    1    3\n",
      "2    1    4\n",
      "3    7    7\n"
     ]
    }
   ],
   "source": [
    "print(df1)\n",
    "separate()\n",
    "\n",
    "idx_frame=df1.set_index('one')\n",
    "print(idx_frame)  #此时列名b已不存在，b变为行index的名称\n",
    "separate()\n",
    "\n",
    "print(idx_frame.reset_index()) #恢复的dataframe index变成默认的数字标号"
   ]
  },
  {
   "cell_type": "markdown",
   "metadata": {},
   "source": [
    "#### 连接函数join\n",
    "通过索引或者指定的列连接两个DataFrame 与数据库中join的用法一摸一样\n",
    "```\n",
    "DataFrame.join(other, on=None, how='left', lsuffix='', rsuffix='', sort=False)\n",
    "```\n",
    "- other: DataFrame，或者**带有名字**的Series，或者DataFrame的list。如果传递的是Series，那么其name属性应当是一个集合，并且该集合将会作为结果DataFrame的列名\n",
    "- on: 列名称，或者列名称的list/tuple，或者类似形状的数组 表示连接的列，**默认使用索引连接**\n",
    "- how: 连接方式 **'left', 'right', 'outer', 'inner', default: 'left'**\n",
    "- lsuffix: \"string\"类型 左DataFrame中重复列的后缀\n",
    "- rsuffix: \"string\"类型 右DataFrame中重复列的后缀\n",
    "- sort: \"bool\" 类型 default False 按照字典顺序对结果在连接键上排序。如果为False，连接键的顺序取决于连接类型（关键字）。\n",
    "\n",
    "当需要join的数据是DataFrame的list时，不支持传递参数on，lsuffix，sort\n",
    "\n",
    "数据库中的连接定义：\n",
    "- left join （左连接）：返回包括左表中的所有记录和右表中连接字段相等的记录。\n",
    "- right join （右连接）：返回包括右表中的所有记录和左表中连接字段相等的记录。\n",
    "- inner join （等值连接或者叫内连接）：只返回两个表中连接字段相等的行。\n",
    "- outer join （全外连接）：返回左右表中所有的记录和左右表中连接字段相等的记录。\n"
   ]
  },
  {
   "cell_type": "code",
   "execution_count": 89,
   "metadata": {
    "tags": []
   },
   "outputs": [
    {
     "name": "stdout",
     "output_type": "stream",
     "text": [
      "  key   A\n",
      "0  K2  A0\n",
      "1  K3  A1\n",
      "2  K0  A2\n",
      "3  K1  A3\n",
      "4  K4  A4\n",
      "5  K5  A5\n",
      "   key    B\n",
      "0   K0   B0\n",
      "1   K1   B1\n",
      "2   K2   B2\n",
      "3  K99  B99\n",
      "  key_caller   A key_other    B\n",
      "0         K2  A0        K0   B0\n",
      "1         K3  A1        K1   B1\n",
      "2         K0  A2        K2   B2\n",
      "3         K1  A3       K99  B99\n",
      "4         K4  A4       NaN  NaN\n",
      "5         K5  A5       NaN  NaN\n",
      "--------------------------------\n",
      "  key   A   B\n",
      "0  K2  A0  B2\n",
      "2  K0  A2  B0\n",
      "3  K1  A3  B1\n",
      "--------------------------------\n",
      "  key   A   B\n",
      "2  K0  A2  B0\n",
      "3  K1  A3  B1\n",
      "0  K2  A0  B2\n"
     ]
    }
   ],
   "source": [
    "caller = pd.DataFrame({'key':['K2', 'K3', 'K0', 'K1', 'K4', 'K5'], 'A':['A0', 'A1', 'A2', 'A3', 'A4', 'A5']})\n",
    "other = pd.DataFrame({'key':['K0', 'K1', 'K2','K99'], 'B':['B0', 'B1', 'B2', 'B99']})\n",
    "print(caller)\n",
    "print(other)\n",
    "#通过索引连接\n",
    "print(caller.join(other,lsuffix='_caller', rsuffix='_other'))\n",
    "separate()\n",
    "\n",
    "#通过列key连接\n",
    "print(caller.join(other.set_index('key'), on=\"key\", how='inner'))  #需要先将连接的列设置为index\n",
    "separate()\n",
    "\n",
    "#sort的效果\n",
    "print(caller.join(other.set_index('key'), on=\"key\", how='inner',sort=True))"
   ]
  },
  {
   "cell_type": "markdown",
   "metadata": {},
   "source": [
    "#### 连接函数concat\n"
   ]
  },
  {
   "cell_type": "code",
   "execution_count": 131,
   "metadata": {
    "collapsed": true,
    "jupyter": {
     "outputs_hidden": true
    }
   },
   "outputs": [
    {
     "name": "stdout",
     "output_type": "stream",
     "text": [
      "two      5\n",
      "three    5\n",
      "dtype: int64 two      int64\n",
      "three    int64\n",
      "dtype: object             two     three\n",
      "count  5.000000  5.000000\n",
      "mean   4.000000  4.000000\n",
      "std    1.581139  1.581139\n",
      "min    2.000000  2.000000\n",
      "25%    3.000000  3.000000\n",
      "50%    4.000000  4.000000\n",
      "75%    5.000000  5.000000\n",
      "max    6.000000  6.000000\n"
     ]
    }
   ],
   "source": [
    "# 查看属性\n",
    "print(df.count(),df.dtypes,df.describe())   "
   ]
  },
  {
   "cell_type": "markdown",
   "metadata": {},
   "source": [
    "#### 连接函数merge"
   ]
  },
  {
   "cell_type": "code",
   "execution_count": 136,
   "metadata": {
    "collapsed": true,
    "jupyter": {
     "outputs_hidden": true
    }
   },
   "outputs": [
    {
     "name": "stdout",
     "output_type": "stream",
     "text": [
      "Int64Index([0, 1, 2, 3, 4], dtype='int64') Index(['oo', 'tt'], dtype='object')\n",
      "   oo  tt\n",
      "0   2   2\n",
      "1   3   3\n",
      "2   4   4\n",
      "3  10   5\n",
      "4   6   6\n",
      "   oo  tt\n",
      "3  10   5\n",
      "4   6   6\n",
      "   oo  tt\n",
      "0   2   2\n",
      "1   3   3\n",
      "2   4   4\n",
      "3  10  15\n",
      "4   6   6\n"
     ]
    }
   ],
   "source": [
    "# 获取、修改index，columns\n",
    "print(df.index,df.columns)\n",
    "df.rename(columns={'two':'oo','three':'tt'},inplace=True)\n",
    "df.index=np.arange(df.shape[0])\n",
    "print(df)\n",
    "\n",
    "#条件访问数据\n",
    "choose= (df['oo']>=5)\n",
    "print(df.loc[choose,:])\n",
    "\n",
    "# 修改数据\n",
    "df.loc[3,'oo']=10\n",
    "df.iloc[3,1]=15\n",
    "print(df)"
   ]
  },
  {
   "cell_type": "markdown",
   "metadata": {},
   "source": [
    "## 3 ~~Panel~~ MultiIndex\n",
    "\n",
    "Panel主要用于三维数据，但在实际中，高维数据常使用多层级索引MultiIndex表示，操作更加灵活，可以表示3维，甚至更高维的数据。因此在新版Pandas中，panel已被移除"
   ]
  },
  {
   "cell_type": "code",
   "execution_count": 147,
   "metadata": {},
   "outputs": [
    {
     "name": "stdout",
     "output_type": "stream",
     "text": [
      "                  math       physics      \n",
      "                 term1 term2   term1 term2\n",
      "class1 LiLei        68    67      83    73\n",
      "       HanMeimei    76    83      70    97\n",
      "class2 DaChun       84    95      55    72\n",
      "       RuHua        81    75      55    56\n",
      "                  math       physics      \n",
      "                 term1 term2   term1 term2\n",
      "class  names                              \n",
      "class1 LiLei        68    67      83    73\n",
      "       HanMeimei    76    83      70    97\n",
      "class2 DaChun       84    95      55    72\n",
      "       RuHua        81    75      55    56\n",
      "class   names    \n",
      "class1  LiLei        68\n",
      "        HanMeimei    76\n",
      "class2  DaChun       84\n",
      "        RuHua        81\n",
      "Name: term1, dtype: int32\n",
      "           math       physics      \n",
      "          term1 term2   term1 term2\n",
      "names                              \n",
      "LiLei        68    67      83    73\n",
      "HanMeimei    76    83      70    97\n"
     ]
    }
   ],
   "source": [
    "p=pd.DataFrame(np.random.randint(50,100,size=(4,4)),columns=pd.MultiIndex.from_product([[\"math\",\"physics\"],[\"term1\",\"term2\"]]),index=pd.MultiIndex.from_tuples([(\"class1\",\"LiLei\"),(\"class1\",\"HanMeimei\"),(\"class2\",\"DaChun\"),(\"class2\",\"RuHua\")]))\n",
    "print(p)\n",
    "\n",
    "p.index.names=[\"class\",\"names\"]\n",
    "print(p)\n",
    "\n",
    "# MultiIndex索引\n",
    "print(p[\"math\"][\"term1\"])\n",
    "print(p.loc[\"class1\"])"
   ]
  },
  {
   "cell_type": "code",
   "execution_count": null,
   "metadata": {},
   "outputs": [],
   "source": []
  }
 ],
 "metadata": {
  "kernelspec": {
   "display_name": "Python 3",
   "language": "python",
   "name": "python3"
  },
  "language_info": {
   "codemirror_mode": {
    "name": "ipython",
    "version": 3
   },
   "file_extension": ".py",
   "mimetype": "text/x-python",
   "name": "python",
   "nbconvert_exporter": "python",
   "pygments_lexer": "ipython3",
   "version": "3.7.4"
  }
 },
 "nbformat": 4,
 "nbformat_minor": 4
}
