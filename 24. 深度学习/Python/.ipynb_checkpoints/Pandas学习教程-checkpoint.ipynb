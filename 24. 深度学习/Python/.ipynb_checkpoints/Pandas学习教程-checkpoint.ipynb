{
 "cells": [
  {
   "cell_type": "markdown",
   "metadata": {},
   "source": [
    "# Pandas学习教程\n",
    "\n",
    "**Author Github: @deeptrial**\n",
    "\n",
    "2021-04-01\n",
    "\n",
    "East China Normal University"
   ]
  },
  {
   "cell_type": "code",
   "execution_count": 33,
   "metadata": {},
   "outputs": [],
   "source": [
    "import pandas as pd\n",
    "import numpy as np\n",
    "import math"
   ]
  },
  {
   "cell_type": "code",
   "execution_count": null,
   "metadata": {},
   "outputs": [],
   "source": [
    "def sperate():\n",
    "    print(\"--------------------------------\")"
   ]
  },
  {
   "cell_type": "markdown",
   "metadata": {},
   "source": [
    "## 1. Pandas的三大数据结构\n",
    "\n",
    "Pandas具有3种数据结构，分别是Series（系列），DataFrame（数据帧），Panel（面板）。三种数据结构均建立在numpy基础上，因此具有较好的执行效率。这些数据结构的特点如下:\n",
    "\n",
    "- Series表示1维均匀数组，数组尺寸**不可变**，数据值可变\n",
    "- DataFrame表示2维异构数组，数组尺寸可变，数据值可变\n",
    "- ~~Panel表示表示3维异构数组，数组尺寸可变，数据值可变~~ 新版本已使用MultiIndex代替Panel\n",
    "\n",
    "因此三种数据结构间的关系是：Series可组成DataFrame，DataFrame可组成Panel"
   ]
  },
  {
   "cell_type": "markdown",
   "metadata": {},
   "source": [
    "### 1.1 Series\n",
    "\n",
    "Pandas系列可以使用以下构造函数创建：\n",
    "\n",
    "```python\n",
    "pandas.Series( data, index, dtype, copy)\n",
    "```\n",
    "- data: 数据形式，可以是numpy array，list, dictionary， constant\n",
    "- index：索引值，默认np.arange(n)\n",
    "- dtype: 数据类型，默认将自动推断\n",
    "- copy：表示是否复制数据，默认False\n",
    "\n",
    "![image.png](https://pic1.zhimg.com/v2-3c3e48377d299270579be01f6d9fb79c_b.jpg)"
   ]
  },
  {
   "cell_type": "markdown",
   "metadata": {},
   "source": [
    "#### 创建Series"
   ]
  },
  {
   "cell_type": "code",
   "execution_count": 89,
   "metadata": {
    "collapsed": true
   },
   "outputs": [
    {
     "name": "stdout",
     "output_type": "stream",
     "text": [
      "a    11.0\n",
      "b     3.5\n",
      "c     2.0\n",
      "d     5.0\n",
      "4    12.0\n",
      "dtype: float64\n",
      "a    \n",
      "b    \n",
      "c    \n",
      "d    \n",
      "4    \n",
      "dtype: object\n",
      "a    1\n",
      "b    2\n",
      "c    3\n",
      "d    4\n",
      "dtype: int64\n"
     ]
    }
   ],
   "source": [
    "# 创建Series\n",
    "sp=pd.Series([11,3.5,2,5,12],index=['a','b','c','d',4])  #从list创建\n",
    "print(sp)\n",
    "\n",
    "s=pd.Series('',index=['a','b','c','d',4])   #从constant创建\n",
    "print(s)\n",
    "\n",
    "s=pd.Series({'a':1,'b':2,'c':3,'d':4})   #从dict创建\n",
    "print(s)"
   ]
  },
  {
   "cell_type": "code",
   "execution_count": 90,
   "metadata": {
    "collapsed": true
   },
   "outputs": [
    {
     "name": "stdout",
     "output_type": "stream",
     "text": [
      "4 int64 count    4.000000\n",
      "mean     2.500000\n",
      "std      1.290994\n",
      "min      1.000000\n",
      "25%      1.750000\n",
      "50%      2.500000\n",
      "75%      3.250000\n",
      "max      4.000000\n",
      "dtype: float64\n"
     ]
    }
   ],
   "source": [
    "# 查看属性\n",
    "print(s.count(),s.dtype,s.describe())"
   ]
  },
  {
   "cell_type": "code",
   "execution_count": 91,
   "metadata": {
    "collapsed": true
   },
   "outputs": [
    {
     "name": "stdout",
     "output_type": "stream",
     "text": [
      "[1 2 3 4] Index(['a', 'b', 'c', 'd'], dtype='object')\n",
      "a    1\n",
      "c    2\n",
      "b    3\n",
      "d    4\n",
      "dtype: int64\n",
      "1 1 4 a    1\n",
      "c    2\n",
      "b    3\n",
      "dtype: int64 c    2\n",
      "b    3\n",
      "d    4\n",
      "dtype: int64\n",
      "1\n",
      "a    1\n",
      "b    3\n",
      "d    4\n",
      "dtype: int64\n",
      "a    6\n",
      "c    2\n",
      "b    3\n",
      "d    4\n",
      "dtype: int64\n",
      "a    7\n",
      "c    2\n",
      "b    7\n",
      "d    7\n",
      "dtype: int64\n",
      "myindex\n",
      "a    7\n",
      "c    2\n",
      "b    7\n",
      "d    7\n",
      "Name: no means, dtype: int64\n"
     ]
    }
   ],
   "source": [
    "#获取、修改index\n",
    "print(s.values,s.index)\n",
    "s.index=['a','c','b','d']\n",
    "print(s)\n",
    "\n",
    "# 访问数据\n",
    "print(s[0],s['a'],s[-1],s[:3],s[-3:])\n",
    "print(s.a)\n",
    "print(s[['a','b','d']])\n",
    "\n",
    "# 修改数据\n",
    "s[0]=6\n",
    "print(s)\n",
    "s[['a','b','d']]=7\n",
    "print(s)\n",
    "\n",
    "# 命名Series、index\n",
    "s.name=\"no means\"\n",
    "s.index.name=\"myindex\"\n",
    "print(s)"
   ]
  },
  {
   "cell_type": "code",
   "execution_count": 92,
   "metadata": {
    "collapsed": true
   },
   "outputs": [
    {
     "name": "stdout",
     "output_type": "stream",
     "text": [
      "myindex\n",
      "a     True\n",
      "c    False\n",
      "b     True\n",
      "d     True\n",
      "Name: no means, dtype: bool\n",
      "myindex\n",
      "a    12\n",
      "c     7\n",
      "b    12\n",
      "d    12\n",
      "Name: no means, dtype: int64\n",
      "myindex\n",
      "a    14\n",
      "c     4\n",
      "b    14\n",
      "d    14\n",
      "Name: no means, dtype: int64\n",
      "myindex\n",
      "a    1096.633158\n",
      "c       7.389056\n",
      "b    1096.633158\n",
      "d    1096.633158\n",
      "Name: no means, dtype: float64\n",
      "a    11.0\n",
      "b     3.5\n",
      "c     2.0\n",
      "d     5.0\n",
      "4    12.0\n",
      "dtype: float64 myindex\n",
      "a    7\n",
      "c    2\n",
      "b    7\n",
      "d    7\n",
      "Name: no means, dtype: int64 4     NaN\n",
      "a    18.0\n",
      "b    10.5\n",
      "c     4.0\n",
      "d    12.0\n",
      "dtype: float64\n",
      "False\n",
      "myindex\n",
      "a    7\n",
      "b    7\n",
      "c    2\n",
      "d    7\n",
      "Name: no means, dtype: int64\n"
     ]
    }
   ],
   "source": [
    "# 运算\n",
    "# bool运算\n",
    "print(s>5)\n",
    "\n",
    "# 四则运算\n",
    "print(s+5)\n",
    "print(s*2)\n",
    "\n",
    "# 函数运算\n",
    "print(np.exp(s))\n",
    "# 无法使用math计算 print(math.exp(s))\n",
    "\n",
    "#拼接\n",
    "print(sp,s,s+sp) #相同index的累计，不同index的为NaN\n",
    "\n",
    "# 条件判断\n",
    "print(7 in s)\n",
    "\n",
    "#按照index大小排序\n",
    "print(s.sort_index())"
   ]
  },
  {
   "cell_type": "markdown",
   "metadata": {},
   "source": [
    "### 1.2 DataFrame\n",
    "\n",
    "pandas中的DataFrame可以使用以下构造函数创建:\n",
    "```python\n",
    "pandas.DataFrame( data, index, columns, dtype, copy)\n",
    "```\n",
    "- data: 数据形式，可以是numpy array，list, map,dictionary， constant,dataframe\n",
    "- index：行标签，默认np.arange(n)\n",
    "- columns：列标签，默认np.arange(n)\n",
    "- dtype: 数据类型，默认将自动推断\n",
    "- copy：表示是否复制数据，默认False\n",
    "\n",
    "![image.png](https://pic1.zhimg.com/v2-b03baaccf0ca7ec26c97a979fc6540f0_b.jpg)"
   ]
  },
  {
   "cell_type": "code",
   "execution_count": 130,
   "metadata": {
    "collapsed": true
   },
   "outputs": [
    {
     "name": "stdout",
     "output_type": "stream",
     "text": [
      "   kk dd\n",
      "0   1  a\n",
      "1   2  b\n",
      "2   3  c\n",
      "3   4  d\n",
      "   one  two\n",
      "a  1.0    1\n",
      "b  2.0    2\n",
      "c  3.0    3\n",
      "d  NaN    4\n",
      "column select: a    1.0\n",
      "b    2.0\n",
      "c    3.0\n",
      "d    NaN\n",
      "Name: one, dtype: float64\n",
      "   one  two\n",
      "a  1.0    1\n",
      "b  2.0    2\n",
      "c  3.0    3\n",
      "d  NaN    4\n",
      "   one  two  three  four\n",
      "a  1.0    1      1  10.0\n",
      "b  2.0    2      2  20.0\n",
      "c  3.0    3      3  30.0\n",
      "d  NaN    4      4   NaN\n",
      "   one  two  three\n",
      "a  1.0    1      1\n",
      "b  2.0    2      2\n",
      "c  3.0    3      3\n",
      "d  NaN    4      4\n",
      "   two  three\n",
      "a    1      1\n",
      "b    2      2\n",
      "c    3      3\n",
      "d    4      4\n",
      "select row two      1\n",
      "three    1\n",
      "Name: a, dtype: int64    three  two\n",
      "a      1    1 <class 'pandas.core.series.Series'>\n",
      "select row-2 two      1\n",
      "three    1\n",
      "Name: a, dtype: int64 a    1\n",
      "b    2\n",
      "c    3\n",
      "d    4\n",
      "Name: two, dtype: int64 a    1\n",
      "c    3\n",
      "Name: two, dtype: int64 <class 'pandas.core.series.Series'>\n",
      "   two  three\n",
      "a    1      1\n",
      "b    2      2\n",
      "c    3      3\n",
      "   two  three\n",
      "a    1      1\n",
      "b    2      2\n",
      "c    3      3\n",
      "d    4      4\n",
      "e    5      5\n",
      "f    6      6\n",
      "   two  three\n",
      "b    2      2\n",
      "c    3      3\n",
      "d    4      4\n",
      "e    5      5\n",
      "f    6      6\n"
     ]
    }
   ],
   "source": [
    "# 创建DataFrame\n",
    "df=pd.DataFrame([[1,'a'],[2,'b'],[3,'c'],[4,'d']],columns=['kk','dd'])\n",
    "print(df)\n",
    "\n",
    "d = {'one' : pd.Series([1, 2, 3], index=['a', 'b', 'c']), 'two' : pd.Series([1, 2, 3, 4], index=['a', 'b', 'c', 'd'])}\n",
    "df = pd.DataFrame(d)\n",
    "print(df)\n",
    "\n",
    "#列选择\n",
    "print('column select:',df['one'])\n",
    "print(df[['one','two']])\n",
    "\n",
    "# 添加列\n",
    "df[\"three\"]=[1,2,3,4]\n",
    "df['four']=pd.Series([10,20,30],index=['a','b','c'])\n",
    "print(df)\n",
    "\n",
    "#列删除\n",
    "del df['four']\n",
    "print(df)\n",
    "\n",
    "df.pop('one')\n",
    "print(df)\n",
    "\n",
    "#行选择\n",
    "print('select row',df.loc['a'],df.loc[['a'],['three','two']],type(df.loc['a']))\n",
    "print('select row-2',df.iloc[0],df.iloc[:,0],df.iloc[[0,2],0],type(df.iloc[0]))\n",
    "print(df[0:3])\n",
    "\n",
    "#行添加\n",
    "addrow=pd.DataFrame([[5,5],[6,6]],columns=['two','three'],index=['e','f'])\n",
    "df=df.append(addrow) #注意需要赋值\n",
    "print(df)\n",
    "\n",
    "#行删除\n",
    "df=df.drop('a') #注意与pop的区别\n",
    "print(df)"
   ]
  },
  {
   "cell_type": "code",
   "execution_count": 131,
   "metadata": {
    "collapsed": true
   },
   "outputs": [
    {
     "name": "stdout",
     "output_type": "stream",
     "text": [
      "two      5\n",
      "three    5\n",
      "dtype: int64 two      int64\n",
      "three    int64\n",
      "dtype: object             two     three\n",
      "count  5.000000  5.000000\n",
      "mean   4.000000  4.000000\n",
      "std    1.581139  1.581139\n",
      "min    2.000000  2.000000\n",
      "25%    3.000000  3.000000\n",
      "50%    4.000000  4.000000\n",
      "75%    5.000000  5.000000\n",
      "max    6.000000  6.000000\n"
     ]
    }
   ],
   "source": [
    "# 查看属性\n",
    "print(df.count(),df.dtypes,df.describe())   "
   ]
  },
  {
   "cell_type": "code",
   "execution_count": 136,
   "metadata": {
    "collapsed": true
   },
   "outputs": [
    {
     "name": "stdout",
     "output_type": "stream",
     "text": [
      "Int64Index([0, 1, 2, 3, 4], dtype='int64') Index(['oo', 'tt'], dtype='object')\n",
      "   oo  tt\n",
      "0   2   2\n",
      "1   3   3\n",
      "2   4   4\n",
      "3  10   5\n",
      "4   6   6\n",
      "   oo  tt\n",
      "3  10   5\n",
      "4   6   6\n",
      "   oo  tt\n",
      "0   2   2\n",
      "1   3   3\n",
      "2   4   4\n",
      "3  10  15\n",
      "4   6   6\n"
     ]
    }
   ],
   "source": [
    "# 获取、修改index，columns\n",
    "print(df.index,df.columns)\n",
    "df.rename(columns={'two':'oo','three':'tt'},inplace=True)\n",
    "df.index=np.arange(df.shape[0])\n",
    "print(df)\n",
    "\n",
    "#条件访问数据\n",
    "choose= (df['oo']>=5)\n",
    "print(df.loc[choose,:])\n",
    "\n",
    "# 修改数据\n",
    "df.loc[3,'oo']=10\n",
    "df.iloc[3,1]=15\n",
    "print(df)"
   ]
  },
  {
   "cell_type": "markdown",
   "metadata": {},
   "source": [
    "### 1.3 ~~Panel~~ MultiIndex\n",
    "\n",
    "Panel主要用于三维数据，但在实际中，高维数据常使用多层级索引MultiIndex表示，操作更加灵活，可以表示3维，甚至更高维的数据。因此在新版Pandas中，panel已被移除"
   ]
  },
  {
   "cell_type": "code",
   "execution_count": 147,
   "metadata": {},
   "outputs": [
    {
     "name": "stdout",
     "output_type": "stream",
     "text": [
      "                  math       physics      \n",
      "                 term1 term2   term1 term2\n",
      "class1 LiLei        68    67      83    73\n",
      "       HanMeimei    76    83      70    97\n",
      "class2 DaChun       84    95      55    72\n",
      "       RuHua        81    75      55    56\n",
      "                  math       physics      \n",
      "                 term1 term2   term1 term2\n",
      "class  names                              \n",
      "class1 LiLei        68    67      83    73\n",
      "       HanMeimei    76    83      70    97\n",
      "class2 DaChun       84    95      55    72\n",
      "       RuHua        81    75      55    56\n",
      "class   names    \n",
      "class1  LiLei        68\n",
      "        HanMeimei    76\n",
      "class2  DaChun       84\n",
      "        RuHua        81\n",
      "Name: term1, dtype: int32\n",
      "           math       physics      \n",
      "          term1 term2   term1 term2\n",
      "names                              \n",
      "LiLei        68    67      83    73\n",
      "HanMeimei    76    83      70    97\n"
     ]
    }
   ],
   "source": [
    "p=pd.DataFrame(np.random.randint(50,100,size=(4,4)),columns=pd.MultiIndex.from_product([[\"math\",\"physics\"],[\"term1\",\"term2\"]]),index=pd.MultiIndex.from_tuples([(\"class1\",\"LiLei\"),(\"class1\",\"HanMeimei\"),(\"class2\",\"DaChun\"),(\"class2\",\"RuHua\")]))\n",
    "print(p)\n",
    "\n",
    "p.index.names=[\"class\",\"names\"]\n",
    "print(p)\n",
    "\n",
    "# MultiIndex索引\n",
    "print(p[\"math\"][\"term1\"])\n",
    "print(p.loc[\"class1\"])"
   ]
  },
  {
   "cell_type": "code",
   "execution_count": null,
   "metadata": {},
   "outputs": [],
   "source": []
  }
 ],
 "metadata": {
  "kernelspec": {
   "display_name": "Python 3",
   "language": "python",
   "name": "python3"
  },
  "language_info": {
   "codemirror_mode": {
    "name": "ipython",
    "version": 3
   },
   "file_extension": ".py",
   "mimetype": "text/x-python",
   "name": "python",
   "nbconvert_exporter": "python",
   "pygments_lexer": "ipython3",
   "version": "3.7.4"
  }
 },
 "nbformat": 4,
 "nbformat_minor": 2
}
